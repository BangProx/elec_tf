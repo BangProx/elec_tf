{
 "cells": [
  {
   "cell_type": "code",
   "execution_count": 1,
   "id": "7a62bf48-b094-4080-8739-b4a818750b9e",
   "metadata": {},
   "outputs": [],
   "source": [
    "import torch\n",
    "from torch import nn, Tensor\n",
    "import math\n",
    "import torch.nn.functional as F\n",
    "import pandas as pd\n",
    "import numpy as np\n",
    "from sklearn.preprocessing import StandardScaler\n",
    "from pandas import to_datetime\n",
    "from sklearn.model_selection import train_test_split\n",
    "import torch.optim as optim\n",
    "from torch.utils.data import TensorDataset, DataLoader\n",
    "from sklearn.metrics import mean_absolute_error, r2_score\n",
    "import numpy as np\n",
    "import gc"
   ]
  },
  {
   "cell_type": "code",
   "execution_count": 2,
   "id": "97b63a69-3478-4baa-a23b-712b1a7c5705",
   "metadata": {},
   "outputs": [],
   "source": [
    "de = pd.read_csv('DETotal.csv')\n",
    "kepco = pd.read_csv('kepcoTotal.csv')"
   ]
  },
  {
   "cell_type": "code",
   "execution_count": 3,
   "id": "1d6309cd-c912-48e0-a7d2-15a8594337bc",
   "metadata": {},
   "outputs": [
    {
     "data": {
      "text/html": [
       "<div>\n",
       "<style scoped>\n",
       "    .dataframe tbody tr th:only-of-type {\n",
       "        vertical-align: middle;\n",
       "    }\n",
       "\n",
       "    .dataframe tbody tr th {\n",
       "        vertical-align: top;\n",
       "    }\n",
       "\n",
       "    .dataframe thead th {\n",
       "        text-align: right;\n",
       "    }\n",
       "</style>\n",
       "<table border=\"1\" class=\"dataframe\">\n",
       "  <thead>\n",
       "    <tr style=\"text-align: right;\">\n",
       "      <th></th>\n",
       "      <th>Hourly Sum</th>\n",
       "      <th>weekday</th>\n",
       "      <th>hour</th>\n",
       "    </tr>\n",
       "  </thead>\n",
       "  <tbody>\n",
       "    <tr>\n",
       "      <th>0</th>\n",
       "      <td>0.250072</td>\n",
       "      <td>3</td>\n",
       "      <td>0</td>\n",
       "    </tr>\n",
       "    <tr>\n",
       "      <th>1</th>\n",
       "      <td>0.220342</td>\n",
       "      <td>3</td>\n",
       "      <td>1</td>\n",
       "    </tr>\n",
       "    <tr>\n",
       "      <th>2</th>\n",
       "      <td>0.193523</td>\n",
       "      <td>3</td>\n",
       "      <td>2</td>\n",
       "    </tr>\n",
       "    <tr>\n",
       "      <th>3</th>\n",
       "      <td>0.179949</td>\n",
       "      <td>3</td>\n",
       "      <td>3</td>\n",
       "    </tr>\n",
       "    <tr>\n",
       "      <th>4</th>\n",
       "      <td>0.166708</td>\n",
       "      <td>3</td>\n",
       "      <td>4</td>\n",
       "    </tr>\n",
       "  </tbody>\n",
       "</table>\n",
       "</div>"
      ],
      "text/plain": [
       "   Hourly Sum  weekday  hour\n",
       "0    0.250072        3     0\n",
       "1    0.220342        3     1\n",
       "2    0.193523        3     2\n",
       "3    0.179949        3     3\n",
       "4    0.166708        3     4"
      ]
     },
     "execution_count": 3,
     "metadata": {},
     "output_type": "execute_result"
    }
   ],
   "source": [
    "# 1. 'Hourly Time'을 datetime 객체로 변환\n",
    "de['Hourly Time'] = to_datetime(de['Hourly Time'], format='%d.%m.%Y %H:%M')\n",
    "\n",
    "# 2. 추가적인 시간 관련 특징을 추출 (예: 요일, 시간 등)\n",
    "de['weekday'] = de['Hourly Time'].dt.dayofweek  # 요일을 나타내는 0 (월요일)에서 6 (일요일)까지의 숫자\n",
    "de['hour'] = de['Hourly Time'].dt.hour          # 시간 (0-23)\n",
    "\n",
    "# 3. 'Hourly Sum' 전력 사용량 데이터 정규화\n",
    "scaler = StandardScaler()\n",
    "de['Hourly Sum'] = scaler.fit_transform(de[['Hourly Sum']])\n",
    "\n",
    "# 데이터 프레임에서 필요한 열만 선택\n",
    "processed_de = de[['Hourly Sum', 'weekday', 'hour']]\n",
    "\n",
    "# 출력을 위한 정제된 데이터의 처음 몇 행을 보여줌\n",
    "processed_de.head()"
   ]
  },
  {
   "cell_type": "code",
   "execution_count": 4,
   "id": "c0dd0900-998c-47e8-ac34-6e5b7f23dae1",
   "metadata": {},
   "outputs": [
    {
     "data": {
      "text/plain": [
       "((61364, 3), (15341, 3))"
      ]
     },
     "execution_count": 4,
     "metadata": {},
     "output_type": "execute_result"
    }
   ],
   "source": [
    "train_de = processed_de[:int(0.8*len(processed_de))]\n",
    "test_de = processed_de[int(0.8*len(processed_de)):]\n",
    "train_de.shape, test_de.shape"
   ]
  },
  {
   "cell_type": "code",
   "execution_count": 5,
   "id": "fd4fd0e5-cda0-4520-9a1f-1042a10b0a07",
   "metadata": {},
   "outputs": [
    {
     "name": "stdout",
     "output_type": "stream",
     "text": [
      "(15150, 168, 3) (15150, 24)\n"
     ]
    }
   ],
   "source": [
    "# 설정된 시퀀스 길이와 예측 길이\n",
    "sequence_length = 168  # 168 hours = 7 days\n",
    "prediction_length = 24  # 24 hours = 1 day\n",
    "\n",
    "# 시퀀스 데이터를 생성하는 함수\n",
    "def create_sequences(de, sequence_length, prediction_length):\n",
    "    X = []\n",
    "    y = []\n",
    "\n",
    "    for i in range(len(de) - sequence_length - prediction_length + 1):\n",
    "        X.append(de[i:(i + sequence_length)].values)\n",
    "        y.append(de[(i + sequence_length):(i + sequence_length + prediction_length)]['Hourly Sum'].values)\n",
    "\n",
    "    # numpy 배열로 변환\n",
    "    X = np.array(X)\n",
    "    y = np.array(y)\n",
    "\n",
    "    return X, y\n",
    "\n",
    "# 입력 특징과 타겟 변수를 기반으로 시퀀스 데이터 생성\n",
    "X_test, y_test = create_sequences(test_de, sequence_length, prediction_length)\n",
    "# 결과 확인\n",
    "print(X_test.shape, y_test.shape)"
   ]
  },
  {
   "cell_type": "code",
   "execution_count": 6,
   "id": "f529df9b-3f14-498c-b146-0bca275a812b",
   "metadata": {},
   "outputs": [],
   "source": [
    "#device = torch.device(\"cuda\" if torch.cuda.is_available() else \"cpu\")"
   ]
  },
  {
   "cell_type": "code",
   "execution_count": 7,
   "id": "8a6ed1f6-dbc7-4372-a6d0-a662e0a6a586",
   "metadata": {},
   "outputs": [
    {
     "name": "stdout",
     "output_type": "stream",
     "text": [
      "24\n"
     ]
    }
   ],
   "source": [
    "class TransformerModel(nn.Module):\n",
    "    def __init__(self, input_dim, model_dim, num_heads, num_layers, output_dim, dropout=0.1):\n",
    "        super(TransformerModel, self).__init__()\n",
    "        self.model_dim = model_dim\n",
    "        self.input_linear = nn.Linear(input_dim, model_dim)\n",
    "        self.positional_encoding = nn.Parameter(torch.randn(1, sequence_length, model_dim))\n",
    "        self.encoder_layer = nn.TransformerEncoderLayer(\n",
    "            d_model=model_dim, nhead=num_heads, dim_feedforward=model_dim * 4, dropout=dropout,batch_first = True\n",
    "        )\n",
    "        self.transformer_encoder = nn.TransformerEncoder(self.encoder_layer, num_layers=num_layers)\n",
    "        self.output_linear = nn.Linear(model_dim, output_dim)\n",
    "\n",
    "    def generate_square_subsequent_mask(self, sz):\n",
    "        mask = (torch.triu(torch.ones(sz, sz)) == 1).transpose(0, 1)\n",
    "        mask = mask.float().masked_fill(mask == 0, float('-inf')).masked_fill(mask == 1, float(0.0))\n",
    "        return mask\n",
    "\n",
    "    def forward(self, x):\n",
    "        x = self.input_linear(x) + self.positional_encoding\n",
    "        mask = self.generate_square_subsequent_mask(x.size(1)).to(x.device)\n",
    "        x = self.transformer_encoder(x, mask)\n",
    "        return self.output_linear(x[:, -1, :])\n",
    "\n",
    "# 모델 인스턴스 생성\n",
    "input_dim = X_test.shape[-1]  # 입력 차원\n",
    "model_dim = 512  # 모델의 특징 차원\n",
    "num_heads = 8  # 어텐션 헤드의 수\n",
    "num_layers = 3  # 인코더 레이어의 수\n",
    "output_dim = y_test.shape[-1]  # 출력 차원\n",
    "\n",
    "model = TransformerModel(input_dim, model_dim, num_heads, num_layers, output_dim)\n",
    "\n",
    "# 손실 함수와 옵티마이저\n",
    "criterion = nn.MSELoss()\n",
    "optimizer = optim.Adam(model.parameters(), lr=0.001)\n",
    "\n",
    "# 모델 요약\n",
    "model, criterion, optimizer\n",
    "print(output_dim)"
   ]
  },
  {
   "cell_type": "code",
   "execution_count": 8,
   "id": "c865d189-5b0e-402d-ad44-b0048dc596ad",
   "metadata": {},
   "outputs": [],
   "source": [
    "def split_data(X_test,split_len):\n",
    "    data_list = []\n",
    "    test_len = int(len(X_test)/split_len)\n",
    "    for i in range(test_len):\n",
    "        data_list.append(X_test[i:i+split_len])\n",
    "        i+=150\n",
    "    return data_list, test_len"
   ]
  },
  {
   "cell_type": "code",
   "execution_count": 9,
   "id": "2d568e1e-324a-40af-80fa-6acf38b7fb47",
   "metadata": {},
   "outputs": [],
   "source": [
    "data_list,test_len = split_data(X_test,150)"
   ]
  },
  {
   "cell_type": "code",
   "execution_count": 10,
   "id": "0183cef1-b596-4154-9e46-69605000329d",
   "metadata": {},
   "outputs": [
    {
     "data": {
      "text/plain": [
       "TransformerModel(\n",
       "  (input_linear): Linear(in_features=3, out_features=512, bias=True)\n",
       "  (encoder_layer): TransformerEncoderLayer(\n",
       "    (self_attn): MultiheadAttention(\n",
       "      (out_proj): NonDynamicallyQuantizableLinear(in_features=512, out_features=512, bias=True)\n",
       "    )\n",
       "    (linear1): Linear(in_features=512, out_features=2048, bias=True)\n",
       "    (dropout): Dropout(p=0.1, inplace=False)\n",
       "    (linear2): Linear(in_features=2048, out_features=512, bias=True)\n",
       "    (norm1): LayerNorm((512,), eps=1e-05, elementwise_affine=True)\n",
       "    (norm2): LayerNorm((512,), eps=1e-05, elementwise_affine=True)\n",
       "    (dropout1): Dropout(p=0.1, inplace=False)\n",
       "    (dropout2): Dropout(p=0.1, inplace=False)\n",
       "  )\n",
       "  (transformer_encoder): TransformerEncoder(\n",
       "    (layers): ModuleList(\n",
       "      (0-2): 3 x TransformerEncoderLayer(\n",
       "        (self_attn): MultiheadAttention(\n",
       "          (out_proj): NonDynamicallyQuantizableLinear(in_features=512, out_features=512, bias=True)\n",
       "        )\n",
       "        (linear1): Linear(in_features=512, out_features=2048, bias=True)\n",
       "        (dropout): Dropout(p=0.1, inplace=False)\n",
       "        (linear2): Linear(in_features=2048, out_features=512, bias=True)\n",
       "        (norm1): LayerNorm((512,), eps=1e-05, elementwise_affine=True)\n",
       "        (norm2): LayerNorm((512,), eps=1e-05, elementwise_affine=True)\n",
       "        (dropout1): Dropout(p=0.1, inplace=False)\n",
       "        (dropout2): Dropout(p=0.1, inplace=False)\n",
       "      )\n",
       "    )\n",
       "  )\n",
       "  (output_linear): Linear(in_features=512, out_features=24, bias=True)\n",
       ")"
      ]
     },
     "execution_count": 10,
     "metadata": {},
     "output_type": "execute_result"
    }
   ],
   "source": [
    "device = torch.device('cuda' if torch.cuda.is_available() else 'cpu')\n",
    "model.to(device)"
   ]
  },
  {
   "cell_type": "code",
   "execution_count": 11,
   "id": "dfba9d81-60da-47e4-858e-f78df6c617fc",
   "metadata": {},
   "outputs": [],
   "source": [
    "def to_tensor(X_test):\n",
    "    X_test_tensor = torch.tensor(X_test,dtype=torch.float32).to(device)\n",
    "    return X_test_tensor\n",
    "y_test_tensor = torch.tensor(y_test,dtype=torch.float32)"
   ]
  },
  {
   "cell_type": "code",
   "execution_count": 12,
   "id": "09b805f5-f7a4-4c49-8e29-5b97f98fb944",
   "metadata": {},
   "outputs": [],
   "source": [
    "for i in range(test_len):\n",
    "    data_list[i] = to_tensor(data_list[i])"
   ]
  },
  {
   "cell_type": "code",
   "execution_count": 13,
   "id": "12f3290c-f794-44d2-b03c-afee2d143bf3",
   "metadata": {
    "scrolled": true
   },
   "outputs": [],
   "source": [
    "model.load_state_dict(torch.load('model_weights3.pth'))\n",
    "predictions_tensor = []\n",
    "\n",
    "model.eval()\n",
    "with torch.no_grad():\n",
    "    for i in range(test_len):\n",
    "        temp = model(data_list[i])\n",
    "        predictions_tensor.append(temp)\n",
    "        gc.collect()\n",
    "        torch.cuda.empty_cache()"
   ]
  },
  {
   "cell_type": "code",
   "execution_count": 14,
   "id": "287ef889-bb1a-4076-96a4-45b90a6e8115",
   "metadata": {},
   "outputs": [],
   "source": [
    "predictions_tensor = [tensor.cpu() for tensor in predictions_tensor]"
   ]
  },
  {
   "cell_type": "code",
   "execution_count": 15,
   "id": "c47cc8f4-0af9-42f1-a04d-7774831dad3e",
   "metadata": {
    "scrolled": true
   },
   "outputs": [
    {
     "data": {
      "text/plain": [
       "(101, 150, 24)"
      ]
     },
     "execution_count": 15,
     "metadata": {},
     "output_type": "execute_result"
    }
   ],
   "source": [
    "predictions = np.array(predictions_tensor)\n",
    "predictions.shape"
   ]
  },
  {
   "cell_type": "code",
   "execution_count": 17,
   "id": "3325b530-3062-44d4-806e-cf0e49c224e4",
   "metadata": {},
   "outputs": [],
   "source": [
    "predictions = predictions.reshape(-1,predictions.shape[2])"
   ]
  },
  {
   "cell_type": "code",
   "execution_count": 18,
   "id": "fd5c9568-92aa-4d8b-8b1e-1e92b126bf55",
   "metadata": {},
   "outputs": [],
   "source": [
    "y_test = np.array(y_test_tensor)"
   ]
  },
  {
   "cell_type": "code",
   "execution_count": 24,
   "id": "7ad5547c-9f9e-44f3-938d-07bc62876c50",
   "metadata": {},
   "outputs": [
    {
     "name": "stdout",
     "output_type": "stream",
     "text": [
      "Mean Absolute Error (MAE): 0.18437999486923218\n",
      "Mean Absolute Percentage Error (MAPE): 57.1024%\n",
      "R-squared (R²): -0.4888\n"
     ]
    }
   ],
   "source": [
    "mae = mean_absolute_error(y_test, predictions).round(5)\n",
    "\n",
    "# Calculate MAPE\n",
    "def mean_absolute_percentage_error(y_test, predictions): \n",
    "    y_test, predictions = np.array(y_test), np.array(predictions)\n",
    "    non_zero_mask = y_test != 0  # To avoid division by zero\n",
    "    return np.mean(np.abs((y_test[non_zero_mask] - predictions[non_zero_mask]) / y_test[non_zero_mask])) * 100\n",
    "mape = mean_absolute_percentage_error(y_test, predictions).round(5)\n",
    "\n",
    "# Calculate R-squared (R²)\n",
    "r_squared = r2_score(y_test, predictions).round(5)\n",
    "\n",
    "# Print the metrics\n",
    "print(f\"Mean Absolute Error (MAE): {mae}\")\n",
    "print(f\"Mean Absolute Percentage Error (MAPE): {mape}%\")\n",
    "print(f\"R-squared (R²): {r_squared}\")"
   ]
  }
 ],
 "metadata": {
  "kernelspec": {
   "display_name": "elec(tf_2.1.1)",
   "language": "python",
   "name": "elec"
  },
  "language_info": {
   "codemirror_mode": {
    "name": "ipython",
    "version": 3
   },
   "file_extension": ".py",
   "mimetype": "text/x-python",
   "name": "python",
   "nbconvert_exporter": "python",
   "pygments_lexer": "ipython3",
   "version": "3.10.13"
  }
 },
 "nbformat": 4,
 "nbformat_minor": 5
}
